{
 "cells": [
  {
   "cell_type": "code",
   "execution_count": 3,
   "metadata": {},
   "outputs": [],
   "source": [
    "import sqlite3\n",
    "conn = sqlite3.connect(\"Cars\")\n",
    "cursor = conn.cursor()"
   ]
  },
  {
   "cell_type": "code",
   "execution_count": 4,
   "metadata": {},
   "outputs": [
    {
     "data": {
      "text/plain": [
       "<sqlite3.Cursor at 0x127efb1b4c0>"
      ]
     },
     "execution_count": 4,
     "metadata": {},
     "output_type": "execute_result"
    }
   ],
   "source": [
    "#DELETE ALL\n",
    "cursor.execute(\"DROP TABLE IF EXISTS Cars\")"
   ]
  },
  {
   "cell_type": "code",
   "execution_count": 5,
   "metadata": {},
   "outputs": [
    {
     "data": {
      "text/plain": [
       "<sqlite3.Cursor at 0x127efb1b4c0>"
      ]
     },
     "execution_count": 5,
     "metadata": {},
     "output_type": "execute_result"
    }
   ],
   "source": [
    "# CREATE DATABASE\n",
    "cursor.execute(\"\"\" \n",
    "              CREATE TABLE IF NOT EXISTS Cars(\n",
    "                car text,\n",
    "                engine text,\n",
    "                price integer\n",
    "              )\n",
    "              \"\"\")"
   ]
  },
  {
   "cell_type": "code",
   "execution_count": 12,
   "metadata": {},
   "outputs": [
    {
     "data": {
      "text/plain": [
       "<sqlite3.Cursor at 0x127efb1b4c0>"
      ]
     },
     "execution_count": 12,
     "metadata": {},
     "output_type": "execute_result"
    }
   ],
   "source": [
    "#INSERT CAR\n",
    "car = input(\"Car name\")\n",
    "engine = input(\"Engine name\")\n",
    "price = input(\"price\")\n",
    "\n",
    "cursor.execute(\"\"\"\n",
    "              INSERT INTO Cars (car, engine, price) VALUES (?, ?, ?)\n",
    "              \"\"\", (car, engine, price))\n"
   ]
  },
  {
   "cell_type": "code",
   "execution_count": 14,
   "metadata": {},
   "outputs": [
    {
     "data": {
      "text/plain": [
       "<sqlite3.Cursor at 0x127efb1b4c0>"
      ]
     },
     "execution_count": 14,
     "metadata": {},
     "output_type": "execute_result"
    }
   ],
   "source": [
    "#UPDATE CAR\n",
    "carNameUpdateCurrent = input(\"Car name for update\")\n",
    "carNameUpdateNew = input(\"New car name\")\n",
    "cursor.execute(\"\"\"\n",
    "              UPDATE Cars       \n",
    "              SET car = ?\n",
    "              WHERE car = ?       \n",
    "              \"\"\", (carNameUpdateNew, carNameUpdateCurrent))"
   ]
  },
  {
   "cell_type": "code",
   "execution_count": 52,
   "metadata": {},
   "outputs": [],
   "source": [
    "#DELETE CAR\n",
    "deleteCar = input(\"delete a car\")\n",
    "cursor.execute(\"\"\"\n",
    "              DELETE FROM Cars\n",
    "              WHERE car = ?\n",
    "              \"\"\", (deleteCar,))\n",
    "conn.commit()"
   ]
  },
  {
   "cell_type": "code",
   "execution_count": 15,
   "metadata": {},
   "outputs": [
    {
     "name": "stdout",
     "output_type": "stream",
     "text": [
      "('porsche ', 'v6', 100)\n",
      "('porsche', 'boxer', 10)\n"
     ]
    }
   ],
   "source": [
    "#VISUALIZE CAR\n",
    "cursor.execute(\"\"\" \n",
    "            SELECT * FROM Cars\n",
    "            \"\"\")\n",
    "for i in cursor.fetchall():\n",
    "  print(i)"
   ]
  }
 ],
 "metadata": {
  "kernelspec": {
   "display_name": "Python 3",
   "language": "python",
   "name": "python3"
  },
  "language_info": {
   "codemirror_mode": {
    "name": "ipython",
    "version": 3
   },
   "file_extension": ".py",
   "mimetype": "text/x-python",
   "name": "python",
   "nbconvert_exporter": "python",
   "pygments_lexer": "ipython3",
   "version": "3.12.2"
  }
 },
 "nbformat": 4,
 "nbformat_minor": 2
}
