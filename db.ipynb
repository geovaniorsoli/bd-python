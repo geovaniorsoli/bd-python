import sqlite3

conn = sqlite3.connect("mydb.db")
cursor = conn.cursor()

# Deleting database
# cursor.execute("DROP TABLE IF EXISTS Fruits")

# Create table
cursor.execute("""
 CREATE TABLE IF NOT EXISTS Fruits(
    fruitName text,
    fruitColor text,
    fruitAmount integer
 )
""")

# Inserting data
cursor.execute("""
    INSERT INTO Fruits(fruitName, fruitColor, fruitAmount)
    VALUES ("Apple", "Red", 30)
""")

cursor.execute("SELECT * FROM Fruits")

for i in cursor.fetchall():
    print(i)
conn.commit()  # Saving the changes
conn.close()  # Close connection
